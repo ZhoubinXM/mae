{
 "cells": [
  {
   "cell_type": "code",
   "execution_count": 8,
   "metadata": {},
   "outputs": [],
   "source": [
    "import math\n",
    "import torch\n",
    "import torch.nn as nn\n",
    "from torch.nn import functional as F\n",
    "import sys\n",
    "sys.path.append(\"..\")"
   ]
  },
  {
   "cell_type": "code",
   "execution_count": 2,
   "metadata": {},
   "outputs": [],
   "source": [
    "qlen = 10\n",
    "klen = 10\n",
    "context_position = torch.arange(qlen, dtype=torch.long,\n",
    "                                        )[:, None]\n",
    "memory_position = torch.arange(klen, dtype=torch.long,\n",
    "                                      )[None, :]"
   ]
  },
  {
   "cell_type": "code",
   "execution_count": 6,
   "metadata": {},
   "outputs": [
    {
     "data": {
      "text/plain": [
       "tensor([[ 0,  1,  2,  3,  4,  5,  6,  7,  8,  9],\n",
       "        [-1,  0,  1,  2,  3,  4,  5,  6,  7,  8],\n",
       "        [-2, -1,  0,  1,  2,  3,  4,  5,  6,  7],\n",
       "        [-3, -2, -1,  0,  1,  2,  3,  4,  5,  6],\n",
       "        [-4, -3, -2, -1,  0,  1,  2,  3,  4,  5],\n",
       "        [-5, -4, -3, -2, -1,  0,  1,  2,  3,  4],\n",
       "        [-6, -5, -4, -3, -2, -1,  0,  1,  2,  3],\n",
       "        [-7, -6, -5, -4, -3, -2, -1,  0,  1,  2],\n",
       "        [-8, -7, -6, -5, -4, -3, -2, -1,  0,  1],\n",
       "        [-9, -8, -7, -6, -5, -4, -3, -2, -1,  0]])"
      ]
     },
     "execution_count": 6,
     "metadata": {},
     "output_type": "execute_result"
    }
   ],
   "source": [
    "memory_position - context_position"
   ]
  },
  {
   "cell_type": "code",
   "execution_count": 11,
   "metadata": {},
   "outputs": [],
   "source": [
    "from src.model.layers.relative_position_bias import RelativePositionBias\n",
    "\n",
    "pos_embed = RelativePositionBias(bidirectional=False,\n",
    "                                 num_buckets=20,\n",
    "                                 max_distance=10,\n",
    "                                 n_heads=8)"
   ]
  },
  {
   "cell_type": "code",
   "execution_count": 15,
   "metadata": {},
   "outputs": [
    {
     "data": {
      "text/plain": [
       "tensor([[ 0, 10, 11, 12, 13, 14, 15, 16, 16, 17],\n",
       "        [ 1,  0, 10, 11, 12, 13, 14, 15, 16, 16],\n",
       "        [ 2,  1,  0, 10, 11, 12, 13, 14, 15, 16],\n",
       "        [ 3,  2,  1,  0, 10, 11, 12, 13, 14, 15],\n",
       "        [ 4,  3,  2,  1,  0, 10, 11, 12, 13, 14],\n",
       "        [ 5,  4,  3,  2,  1,  0, 10, 11, 12, 13],\n",
       "        [ 6,  5,  4,  3,  2,  1,  0, 10, 11, 12],\n",
       "        [ 7,  6,  5,  4,  3,  2,  1,  0, 10, 11],\n",
       "        [ 7,  7,  6,  5,  4,  3,  2,  1,  0, 10],\n",
       "        [ 8,  7,  7,  6,  5,  4,  3,  2,  1,  0]])"
      ]
     },
     "execution_count": 15,
     "metadata": {},
     "output_type": "execute_result"
    }
   ],
   "source": [
    "pos_embed._relative_position_bucket(memory_position - context_position, bidirectional=True,\n",
    "                                    num_buckets=19, max_distance=10)"
   ]
  },
  {
   "cell_type": "code",
   "execution_count": 2,
   "metadata": {},
   "outputs": [
    {
     "name": "stdout",
     "output_type": "stream",
     "text": [
      "tensor([[[-0.3324, -1.4082, -0.0784,  0.9798],\n",
      "         [-1.5731,  2.0689,  0.8974,  1.5193],\n",
      "         [-0.4568,  0.1283,  0.5386, -2.4981],\n",
      "         [-1.6869,  0.1335,  0.8823, -0.2645]],\n",
      "\n",
      "        [[-0.6141,  0.9644, -0.2441, -1.4504],\n",
      "         [ 0.7161, -0.5827,  0.6977,  1.3610],\n",
      "         [ 0.8721, -0.4602,  1.0663,  0.3069],\n",
      "         [-1.1508, -0.7910,  1.0085, -0.4246]]])\n",
      "Max values: tensor([[-0.3324,  2.0689,  0.8974,  1.5193],\n",
      "        [ 0.8721,  0.9644,  1.0663,  1.3610]])\n",
      "Indices of max values: tensor([[0, 1, 1, 1],\n",
      "        [2, 0, 2, 1]])\n"
     ]
    }
   ],
   "source": [
    "import torch\n",
    "\n",
    "# 创建一个三维张量，例如，大小为[2, 4, 4]\n",
    "x = torch.randn(2, 4, 4)\n",
    "\n",
    "# 在第二个维度（channels）上应用torch.max()\n",
    "values, indices = torch.max(x, dim=1)\n",
    "print(x)\n",
    "print(\"Max values:\", values)\n",
    "print(\"Indices of max values:\", indices)"
   ]
  },
  {
   "cell_type": "code",
   "execution_count": null,
   "metadata": {},
   "outputs": [],
   "source": []
  }
 ],
 "metadata": {
  "kernelspec": {
   "display_name": "predict_py38",
   "language": "python",
   "name": "python3"
  },
  "language_info": {
   "codemirror_mode": {
    "name": "ipython",
    "version": 3
   },
   "file_extension": ".py",
   "mimetype": "text/x-python",
   "name": "python",
   "nbconvert_exporter": "python",
   "pygments_lexer": "ipython3",
   "version": "3.8.18"
  },
  "orig_nbformat": 4,
  "vscode": {
   "interpreter": {
    "hash": "e4a263d47b77ac32555f814086733849591fd88fece6a7709957ad496a0d751e"
   }
  }
 },
 "nbformat": 4,
 "nbformat_minor": 2
}
