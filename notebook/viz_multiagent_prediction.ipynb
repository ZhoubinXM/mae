{
 "cells": [
  {
   "cell_type": "code",
   "execution_count": 2,
   "metadata": {},
   "outputs": [
    {
     "name": "stderr",
     "output_type": "stream",
     "text": [
      "/home/jerome.zhou/anaconda3/envs/predict_py38/lib/python3.8/site-packages/tqdm/auto.py:21: TqdmWarning: IProgress not found. Please update jupyter and ipywidgets. See https://ipywidgets.readthedocs.io/en/stable/user_install.html\n",
      "  from .autonotebook import tqdm as notebook_tqdm\n"
     ]
    }
   ],
   "source": [
    "%load_ext autoreload\n",
    "%autoreload 2\n",
    "\n",
    "import sys\n",
    "sys.path.append(\".\")\n",
    "sys.path.append(\"..\")\n",
    "from pathlib import Path\n",
    "from src.datamodule.av2_dataset import Av2Dataset\n",
    "from src.datamodule.av2_extractor import Av2Extractor\n",
    "from src.datamodule.av2_dataset import collate_fn\n",
    "from av2.datasets.motion_forecasting import scenario_serialization\n",
    "from av2.map.map_api import ArgoverseStaticMap\n",
    "from src.utils.vis import  visualize_scenario\n",
    "from src.model.multiagent.trainer_multiagent_mae import Trainer as Model\n",
    "from torch.utils.data import DataLoader as TorchDataLoader\n",
    "\n",
    "import torch\n",
    "from typing import Dict\n",
    "import matplotlib.pyplot as plt\n",
    "import numpy as np\n",
    "import tqdm"
   ]
  },
  {
   "cell_type": "code",
   "execution_count": 3,
   "metadata": {},
   "outputs": [
    {
     "name": "stdout",
     "output_type": "stream",
     "text": [
      "data root: /data/jerome.zhou/prediction_dataset/av2/multiagent-baseline/val, total number of files: 24988\n"
     ]
    }
   ],
   "source": [
    "data_root = Path(\"/data/jerome.zhou/prediction_dataset/av2/multiagent-baseline\") # Path to the datase\n",
    "ckpt = \"../outputs/atpn_test_baseline_scene_q/2024-03-27/19-11-00/checkpoints/last.ckpt\"\n",
    "cached_split =  \"val\"\n",
    "dataset = Av2Dataset(data_root=data_root, cached_split=\"val\", extractor=Av2Extractor(radius=150))\n",
    "model = Model.load_from_checkpoint(ckpt, pretrain_weights=None)\n",
    "model = model.eval()"
   ]
  },
  {
   "cell_type": "code",
   "execution_count": 4,
   "metadata": {},
   "outputs": [],
   "source": [
    "data = dataset[16]\n",
    "scene_id = data[\"scenario_id\"]\n",
    "data_root = Path(\"/data/jerome.zhou/prediction_dataset/av2/\")\n",
    "scene_file = data_root / cached_split / scene_id / (\"scenario_\" + scene_id +\n",
    "                                                    \".parquet\")\n",
    "map_file = data_root / cached_split / scene_id / (\"log_map_archive_\" +\n",
    "                                                  scene_id + \".json\")\n",
    "scenario = scenario_serialization.load_argoverse_scenario_parquet(scene_file)\n",
    "static_map = ArgoverseStaticMap.from_json(map_file)\n",
    "dataloader = TorchDataLoader(\n",
    "    dataset,\n",
    "    batch_size=1,\n",
    "    shuffle=False,\n",
    "    collate_fn=collate_fn,\n",
    ")\n"
   ]
  },
  {
   "cell_type": "code",
   "execution_count": 38,
   "metadata": {},
   "outputs": [
    {
     "name": "stderr",
     "output_type": "stream",
     "text": [
      "20it [00:44,  2.26s/it]/tmp/ipykernel_77681/2605766975.py:6: RuntimeWarning: More than 20 figures have been opened. Figures created through the pyplot interface (`matplotlib.pyplot.figure`) are retained until explicitly closed and may consume too much memory. (To control this warning, see the rcParam `figure.max_open_warning`).\n",
      "  fig, (ax1, ax2, ax3) = plt.subplots(1, 3, figsize=(27, 9))\n",
      "2126it [1:15:06,  1.67s/it]"
     ]
    }
   ],
   "source": [
    "for i, data in tqdm.tqdm(enumerate(dataloader)):\n",
    "  # if i >= 2:\n",
    "  #   break\n",
    "  predictions = model(data)\n",
    "  viz_batched_data(data, predictions)\n",
    "  # print(f\"Epoch: {i}\")\n",
    "  # Viz Scene use api\n",
    "  # scene_id = data[\"scenario_id\"][0]\n",
    "  # scene_file = data_root / cached_split / scene_id / (\"scenario_\" + scene_id +\n",
    "  #                                                   \".parquet\")\n",
    "  # map_file = data_root / cached_split / scene_id / (\"log_map_archive_\" +\n",
    "  #                                                 scene_id + \".json\")\n",
    "  # scenario = scenario_serialization.load_argoverse_scenario_parquet(scene_file)\n",
    "  # static_map = ArgoverseStaticMap.from_json(map_file)\n",
    "  # visualize_scenario(scenario, static_map)"
   ]
  },
  {
   "cell_type": "code",
   "execution_count": 36,
   "metadata": {},
   "outputs": [],
   "source": [
    "def viz_batched_data(data, predictions):\n",
    "    B,N,T,_= data['x'].shape\n",
    "    _,M,L,_ =data[\"lane_positions\"].shape\n",
    "    # each batch is a single sceneario\n",
    "    for bs in range(B):\n",
    "        fig, (ax1, ax2, ax3) = plt.subplots(1, 3, figsize=(27, 9))\n",
    "        # Plot trajectory\n",
    "        hist_traj = data['x_positions'][bs]\n",
    "        y = data['y'][bs]\n",
    "        padding_mask = data['x_padding_mask'][bs]\n",
    "        lane_padding_mask = data[\"lane_padding_mask\"][bs]\n",
    "        for n in range(N):\n",
    "            hist_traj_valid = hist_traj[n][:T][~padding_mask[n][:T]]\n",
    "            ax1.plot(hist_traj_valid[:,0], hist_traj_valid[:,1], linestyle='-', color='g', alpha=1)\n",
    "            ax2.plot(hist_traj_valid[:,0], hist_traj_valid[:,1], linestyle='-', color='g', alpha=1)\n",
    "            ax3.plot(hist_traj_valid[:,0], hist_traj_valid[:,1], linestyle='-', color='g', alpha=1)\n",
    "            y_traj_valid = y[n][~padding_mask[n][T:]] + hist_traj[n][49]\n",
    "            ax1.plot(y_traj_valid[:,0], y_traj_valid[:,1], linestyle='-', color='r', alpha=1)\n",
    "            ax2.plot(y_traj_valid[:,0], y_traj_valid[:,1], linestyle='-', color='r', alpha=1)\n",
    "            ax3.plot(y_traj_valid[:,0], y_traj_valid[:,1], linestyle='-', color='r', alpha=1)\n",
    "        # Plot road map\n",
    "        road = data[\"lane_positions\"][bs]\n",
    "        for m in range(M):\n",
    "            road_valid = road[m][~lane_padding_mask[m][:L]]\n",
    "            ax1.plot(road_valid[:,0], road_valid[:,1], linestyle='-', color='grey', alpha=0.7)\n",
    "            ax2.plot(road_valid[:,0], road_valid[:,1], linestyle='-', color='grey', alpha=0.7)\n",
    "            ax3.plot(road_valid[:,0], road_valid[:,1], linestyle='-', color='grey', alpha=0.7)\n",
    "\n",
    "        # Plot predictions result\n",
    "        pred_traj = predictions['y_hat'][bs].detach()\n",
    "        pred_score = predictions['pi'][bs].detach()\n",
    "        pred_score = torch.softmax(pred_score.squeeze().double(), dim=-1)\n",
    "        sorted_indices = torch.argsort(pred_score)\n",
    "        ranks = torch.empty_like(sorted_indices)\n",
    "        ranks[sorted_indices] = torch.arange(len(pred_score))\n",
    "        colors = ['y', 'y', 'y', 'y', 'y', 'b']\n",
    "\n",
    "        x_scored = data['x_scored'][bs]\n",
    "        _,K,fut_steps,_=pred_traj.shape\n",
    "        for n in range(N):\n",
    "            for k in range(K):\n",
    "                alpha = 1 if ranks[k] == 5 else 0.5\n",
    "                ax2.plot(pred_traj[n,k,:,0] + hist_traj[n, 49, 0], pred_traj[n,k,:,1]+hist_traj[n, 49, 1], \\\n",
    "                         linestyle='-', color=(colors[ranks[k]]), alpha=alpha)\n",
    "                ax2.plot((pred_traj[n,k,:,0] + hist_traj[n, 49, 0])[-1], \\\n",
    "                                     (pred_traj[n,k,:,1]+hist_traj[n, 49, 1])[-1], 'o', color=(colors[ranks[k]]), markersize=2.5, alpha=alpha)\n",
    "                # ax2.text((pred_traj[n,k,:,0] + hist_traj[n, 49, 0])[-1], (pred_traj[n,k,:,1]+hist_traj[n, 49, 1])[-1], f\"{pred_score[k]:.2f}\", fontsize=4)\n",
    "                if x_scored[n]:\n",
    "                    ax3.plot(pred_traj[n,k,:,0] + hist_traj[n, 49, 0], pred_traj[n,k,:,1]+hist_traj[n, 49, 1], \\\n",
    "                         linestyle='-', color=(colors[ranks[k]]), alpha=alpha)\n",
    "                    ax3.plot((pred_traj[n,k,:,0] + hist_traj[n, 49, 0])[-1], \\\n",
    "                                        (pred_traj[n,k,:,1]+hist_traj[n, 49, 1])[-1], 'o', color=(colors[ranks[k]]), markersize=2.5, alpha=alpha)\n",
    "                    # ax3.text((pred_traj[n,k,:,0] + hist_traj[n, 49, 0])[-1], (pred_traj[n,k,:,1]+hist_traj[n, 49, 1])[-1], f\"{pred_score[k]:.2f}\", fontsize=4)\n",
    "\n",
    "        \n",
    "        ax1.set_title('Scene')\n",
    "        ax2.set_title('Prediction')\n",
    "        ax3.set_title('Prediction Scored')\n",
    "\n",
    "        plt.savefig(f\"../viz/multiagent/{data['scenario_id'][bs]}.png\")"
   ]
  },
  {
   "cell_type": "code",
   "execution_count": null,
   "metadata": {},
   "outputs": [],
   "source": []
  }
 ],
 "metadata": {
  "kernelspec": {
   "display_name": "predict_py38",
   "language": "python",
   "name": "python3"
  },
  "language_info": {
   "codemirror_mode": {
    "name": "ipython",
    "version": 3
   },
   "file_extension": ".py",
   "mimetype": "text/x-python",
   "name": "python",
   "nbconvert_exporter": "python",
   "pygments_lexer": "ipython3",
   "version": "3.8.18 (default, Sep 11 2023, 13:40:15) \n[GCC 11.2.0]"
  },
  "orig_nbformat": 4,
  "vscode": {
   "interpreter": {
    "hash": "e4a263d47b77ac32555f814086733849591fd88fece6a7709957ad496a0d751e"
   }
  }
 },
 "nbformat": 4,
 "nbformat_minor": 2
}
