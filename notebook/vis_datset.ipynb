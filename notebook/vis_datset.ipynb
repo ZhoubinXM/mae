{
 "cells": [
  {
   "cell_type": "code",
   "execution_count": null,
   "metadata": {},
   "outputs": [],
   "source": [
    "%load_ext autoreload\n",
    "%autoreload 2\n",
    "import sys\n",
    "sys.path.append(\".\")\n",
    "sys.path.append(\"..\")\n",
    "\n",
    "from pathlib import Path\n",
    "from src.datamodule.av2_dataset import Av2Dataset\n",
    "from src.datamodule.av2_extractor import Av2Extractor\n",
    "from src.datamodule.av2_dataset import collate_fn\n",
    "from av2.datasets.motion_forecasting import scenario_serialization\n",
    "from av2.map.map_api import ArgoverseStaticMap\n",
    "from src.utils.vis import  visualize_scenario\n",
    "from src.model.trainer_forecast import Trainer as Model\n",
    "from av2.datasets.motion_forecasting.data_schema import (\n",
    "    ArgoverseScenario,\n",
    "    ObjectType,\n",
    "    TrackCategory,\n",
    ")\n",
    "import matplotlib.pyplot as plt\n",
    "import numpy as np\n",
    "\n",
    "data_root = Path(\"/data/jerome.zhou/prediction_dataset/av2/forecast-sept-dev\") # Path to the dataset\n",
    "dataset = Av2Dataset(data_root=data_root, cached_split=\"val\", extractor=Av2Extractor(radius=150))"
   ]
  },
  {
   "cell_type": "code",
   "execution_count": null,
   "metadata": {},
   "outputs": [],
   "source": [
    "# use dataset get_data() api interface\n",
    "data = dataset[16]\n",
    "scene_id = data[\"scenario_id\"]\n",
    "scene_file = data_root / scene_id / (\"scenario_\" + scene_id + \".parquet\")\n",
    "map_file = data_root / scene_id / (\"log_map_archive_\" + scene_id + \".json\")\n",
    "scenario = scenario_serialization.load_argoverse_scenario_parquet(scene_file)\n",
    "static_map = ArgoverseStaticMap.from_json(map_file)\n",
    "# vis used original dataset output.\n",
    "# visualize_scenario(scenario, static_map, transform=False)\n",
    "visualize_scenario(scenario, static_map)"
   ]
  },
  {
   "cell_type": "code",
   "execution_count": null,
   "metadata": {},
   "outputs": [],
   "source": [
    "data = dataset[40]\n",
    "traj = data['x_trans']\n",
    "mask = data['x_padding_mask']\n",
    "lane = data['lane_positions']\n",
    "lane_candidate = data[\"lane_candidate\"]\n",
    "lane = lane[lane_candidate.bool()]\n",
    "for i in range(traj.size(0)):\n",
    "    trajectory = traj[i][~mask[i]]\n",
    "    if i == 0:\n",
    "        plt.plot(trajectory[:,0], trajectory[:,1], c=\"k\")\n",
    "    else:\n",
    "        plt.plot(trajectory[:,0], trajectory[:,1], c=\"y\", alpha=0.4)\n",
    "for j in range(lane.size(0)):\n",
    "    lane_j = lane[j]\n",
    "    # if lane_candidate[j]:\n",
    "    plt.plot(lane_j[:,0], lane_j[:, 1], c='r')\n",
    "    # else:\n",
    "        # plt.plot(lane_j[:,0], lane_j[:, 1], c='grey', alpha=0.2)"
   ]
  },
  {
   "cell_type": "code",
   "execution_count": null,
   "metadata": {},
   "outputs": [],
   "source": []
  }
 ],
 "metadata": {
  "kernelspec": {
   "display_name": "predict_py38",
   "language": "python",
   "name": "python3"
  },
  "language_info": {
   "codemirror_mode": {
    "name": "ipython",
    "version": 3
   },
   "file_extension": ".py",
   "mimetype": "text/x-python",
   "name": "python",
   "nbconvert_exporter": "python",
   "pygments_lexer": "ipython3",
   "version": "3.8.18 (default, Sep 11 2023, 13:40:15) \n[GCC 11.2.0]"
  },
  "orig_nbformat": 4,
  "vscode": {
   "interpreter": {
    "hash": "e4a263d47b77ac32555f814086733849591fd88fece6a7709957ad496a0d751e"
   }
  }
 },
 "nbformat": 4,
 "nbformat_minor": 2
}
