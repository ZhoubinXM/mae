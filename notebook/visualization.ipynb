{
 "cells": [
  {
   "cell_type": "code",
   "execution_count": 6,
   "metadata": {},
   "outputs": [
    {
     "name": "stdout",
     "output_type": "stream",
     "text": [
      "The autoreload extension is already loaded. To reload it, use:\n",
      "  %reload_ext autoreload\n",
      "Extracting data from /home/jcheng/dataset/av2/val\n",
      "data root: /home/jcheng/dataset/av2/val/None, total number of files: 0\n"
     ]
    }
   ],
   "source": [
    "%load_ext autoreload\n",
    "%autoreload 2\n",
    "\n",
    "from pathlib import Path\n",
    "from src.datamodule.av2_dataset import Av2Dataset\n",
    "from src.datamodule.av2_extractor import Av2Extractor\n",
    "from src.datamodule.av2_dataset import collate_fn\n",
    "from av2.datasets.motion_forecasting import scenario_serialization\n",
    "from av2.map.map_api import ArgoverseStaticMap\n",
    "from src.utils.vis import  visualize_scenario\n",
    "from src.model.trainer_forecast import Trainer as Model\n",
    "\n",
    "data_root = Path(\"/home/jcheng/dataset/av2/val\") # Path to the datase\n",
    "ckpt = \"./checkpoints/model_forecast_finetune.ckpt\"\n",
    "dataset = Av2Dataset(data_root=data_root, extractor=Av2Extractor(radius=150))\n",
    "model = Model.load_from_checkpoint(ckpt, pretrain_weights=None)\n",
    "model = model.eval()"
   ]
  },
  {
   "cell_type": "code",
   "execution_count": 5,
   "metadata": {},
   "outputs": [
    {
     "ename": "IndexError",
     "evalue": "list index out of range",
     "output_type": "error",
     "traceback": [
      "\u001b[0;31m---------------------------------------------------------------------------\u001b[0m",
      "\u001b[0;31mIndexError\u001b[0m                                Traceback (most recent call last)",
      "Cell \u001b[0;32mIn[5], line 1\u001b[0m\n\u001b[0;32m----> 1\u001b[0m data \u001b[39m=\u001b[39m dataset[\u001b[39m16\u001b[39;49m]\n\u001b[1;32m      2\u001b[0m scene_id \u001b[39m=\u001b[39m data[\u001b[39m\"\u001b[39m\u001b[39mscenario_id\u001b[39m\u001b[39m\"\u001b[39m]\n\u001b[1;32m      3\u001b[0m scene_file \u001b[39m=\u001b[39m data_root \u001b[39m/\u001b[39m scene_id \u001b[39m/\u001b[39m (\u001b[39m\"\u001b[39m\u001b[39mscenario_\u001b[39m\u001b[39m\"\u001b[39m \u001b[39m+\u001b[39m scene_id \u001b[39m+\u001b[39m \u001b[39m\"\u001b[39m\u001b[39m.parquet\u001b[39m\u001b[39m\"\u001b[39m)\n",
      "File \u001b[0;32m~/mae/notebook/../src/datamodule/av2_dataset.py:43\u001b[0m, in \u001b[0;36mAv2Dataset.__getitem__\u001b[0;34m(self, index)\u001b[0m\n\u001b[1;32m     41\u001b[0m     data \u001b[39m=\u001b[39m torch\u001b[39m.\u001b[39mload(\u001b[39mself\u001b[39m\u001b[39m.\u001b[39mfile_list[index])\n\u001b[1;32m     42\u001b[0m \u001b[39melse\u001b[39;00m:\n\u001b[0;32m---> 43\u001b[0m     data \u001b[39m=\u001b[39m \u001b[39mself\u001b[39m\u001b[39m.\u001b[39mextractor\u001b[39m.\u001b[39mget_data(\u001b[39mself\u001b[39;49m\u001b[39m.\u001b[39;49mfile_list[index])\n\u001b[1;32m     45\u001b[0m \u001b[39mreturn\u001b[39;00m data\n",
      "\u001b[0;31mIndexError\u001b[0m: list index out of range"
     ]
    }
   ],
   "source": [
    "data = dataset[16]\n",
    "scene_id = data[\"scenario_id\"]\n",
    "scene_file = data_root / scene_id / (\"scenario_\" + scene_id + \".parquet\")\n",
    "map_file = data_root / scene_id / (\"log_map_archive_\" + scene_id + \".json\")\n",
    "scenario = scenario_serialization.load_argoverse_scenario_parquet(scene_file)\n",
    "static_map = ArgoverseStaticMap.from_json(map_file)\n",
    "\n",
    "prediction, prob = model.predict(collate_fn([data]))\n",
    "visualize_scenario(scenario, static_map, prediction=prediction.squeeze(0))"
   ]
  }
 ],
 "metadata": {
  "kernelspec": {
   "display_name": "predict_py38",
   "language": "python",
   "name": "python3"
  },
  "language_info": {
   "codemirror_mode": {
    "name": "ipython",
    "version": 3
   },
   "file_extension": ".py",
   "mimetype": "text/x-python",
   "name": "python",
   "nbconvert_exporter": "python",
   "pygments_lexer": "ipython3",
   "version": "3.8.18"
  },
  "orig_nbformat": 4,
  "vscode": {
   "interpreter": {
    "hash": "e4a263d47b77ac32555f814086733849591fd88fece6a7709957ad496a0d751e"
   }
  }
 },
 "nbformat": 4,
 "nbformat_minor": 2
}
