{
 "cells": [
  {
   "cell_type": "code",
   "execution_count": null,
   "metadata": {},
   "outputs": [],
   "source": [
    "%load_ext autoreload\n",
    "%autoreload 2\n",
    "\n",
    "from pathlib import Path\n",
    "from src.datamodule.av2_dataset import Av2Dataset\n",
    "from src.datamodule.av2_extractor import Av2Extractor\n",
    "from src.datamodule.av2_dataset import collate_fn\n",
    "from av2.datasets.motion_forecasting import scenario_serialization\n",
    "from av2.map.map_api import ArgoverseStaticMap\n",
    "from src.utils.vis import  visualize_scenario\n",
    "from src.model.trainer_forecast import Trainer as Model\n",
    "\n",
    "data_root = Path(\"/home/jcheng/dataset/av2/val\") # Path to the datase\n",
    "ckpt = \"./checkpoints/model_forecast_finetune.ckpt\"\n",
    "dataset = Av2Dataset(data_root=data_root, extractor=Av2Extractor(radius=150))\n",
    "model = Model.load_from_checkpoint(ckpt, pretrain_weights=None)\n",
    "model = model.eval()"
   ]
  },
  {
   "cell_type": "code",
   "execution_count": null,
   "metadata": {},
   "outputs": [],
   "source": [
    "data = dataset[16]\n",
    "scene_id = data[\"scenario_id\"]\n",
    "scene_file = data_root / scene_id / (\"scenario_\" + scene_id + \".parquet\")\n",
    "map_file = data_root / scene_id / (\"log_map_archive_\" + scene_id + \".json\")\n",
    "scenario = scenario_serialization.load_argoverse_scenario_parquet(scene_file)\n",
    "static_map = ArgoverseStaticMap.from_json(map_file)\n",
    "\n",
    "prediction, prob = model.predict(collate_fn([data]))\n",
    "visualize_scenario(scenario, static_map, prediction=prediction.squeeze(0))"
   ]
  }
 ],
 "metadata": {
  "kernelspec": {
   "display_name": "predict_py38",
   "language": "python",
   "name": "python3"
  },
  "language_info": {
   "codemirror_mode": {
    "name": "ipython",
    "version": 3
   },
   "file_extension": ".py",
   "mimetype": "text/x-python",
   "name": "python",
   "nbconvert_exporter": "python",
   "pygments_lexer": "ipython3",
   "version": "3.8.18 (default, Sep 11 2023, 13:40:15) \n[GCC 11.2.0]"
  },
  "orig_nbformat": 4,
  "vscode": {
   "interpreter": {
    "hash": "e4a263d47b77ac32555f814086733849591fd88fece6a7709957ad496a0d751e"
   }
  }
 },
 "nbformat": 4,
 "nbformat_minor": 2
}
